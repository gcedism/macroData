{
 "cells": [
  {
   "cell_type": "markdown",
   "id": "feb2fa89-a9f8-4a96-b8b0-d1204ef06894",
   "metadata": {},
   "source": [
    "TO DO"
   ]
  },
  {
   "cell_type": "markdown",
   "id": "9b3c3e6d-100a-4067-ac78-d78799a83d1e",
   "metadata": {},
   "source": [
    "- Review the eu_services_conf and eu_construction_conf databases"
   ]
  },
  {
   "cell_type": "code",
   "execution_count": null,
   "id": "0dabc57f-4551-4d64-815b-5471a0abb3fb",
   "metadata": {},
   "outputs": [],
   "source": [
    "\"eu_construction_conf\": {\n",
    "    \"description\": \"EU Construction Confidence\",\n",
    "    \"asset_class\": \"Macroeconomy\",\n",
    "    \"sub_asset_class\": \"Sentiment\",\n",
    "    \"region\": \"EU\",\n",
    "    \"source\": {\n",
    "      \"name\": \"ec\",\n",
    "      \"kwargs\": {\n",
    "        \"flow\": \"ei_bsin_m_r2\",\n",
    "        \"filter\": \"/M.BS-CCI.SA.BAL.EU27_2020\",\n",
    "        \"name\": \"eu_ind_conf\"\n",
    "      }\n",
    "    },\n",
    "    \"frequency\": [\"m\"],\n",
    "    \"transform\": \"n\"\n",
    "  },\n",
    "  \"eu_services_conf\": {\n",
    "    \"description\": \"EU Services Confidence\",\n",
    "    \"asset_class\": \"Macroeconomy\",\n",
    "    \"sub_asset_class\": \"Sentiment\",\n",
    "    \"region\": \"EU\",\n",
    "    \"source\": {\n",
    "      \"name\": \"ec\",\n",
    "      \"kwargs\": {\n",
    "        \"flow\": \"ei_bsin_m_r2\",\n",
    "        \"filter\": \"/M.BS-SCI.SA.BAL.EU27_2020\",\n",
    "        \"name\": \"eu_ind_conf\"\n",
    "      }\n",
    "    },\n",
    "    \"frequency\": [\"m\"],\n",
    "    \"transform\": \"n\"\n",
    "  },"
   ]
  }
 ],
 "metadata": {
  "kernelspec": {
   "display_name": "Python 3 (ipykernel)",
   "language": "python",
   "name": "python3"
  },
  "language_info": {
   "codemirror_mode": {
    "name": "ipython",
    "version": 3
   },
   "file_extension": ".py",
   "mimetype": "text/x-python",
   "name": "python",
   "nbconvert_exporter": "python",
   "pygments_lexer": "ipython3",
   "version": "3.9.15"
  }
 },
 "nbformat": 4,
 "nbformat_minor": 5
}
